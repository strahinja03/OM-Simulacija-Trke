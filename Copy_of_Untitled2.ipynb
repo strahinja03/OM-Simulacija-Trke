{
  "nbformat": 4,
  "nbformat_minor": 0,
  "metadata": {
    "colab": {
      "provenance": [],
      "authorship_tag": "ABX9TyPdmd+saQ6xJCBJIRHGmnGD",
      "include_colab_link": true
    },
    "kernelspec": {
      "name": "python3",
      "display_name": "Python 3"
    },
    "language_info": {
      "name": "python"
    }
  },
  "cells": [
    {
      "cell_type": "markdown",
      "metadata": {
        "id": "view-in-github",
        "colab_type": "text"
      },
      "source": [
        "<a href=\"https://colab.research.google.com/github/strahinja03/OM-Simulacija-Trke/blob/main/Copy_of_Untitled2.ipynb\" target=\"_parent\"><img src=\"https://colab.research.google.com/assets/colab-badge.svg\" alt=\"Open In Colab\"/></a>"
      ]
    },
    {
      "cell_type": "markdown",
      "source": [
        "# Simulacija Trke\n",
        "\n",
        "  U ovom projekatu će biti razvijen napredni model kretanja sprintera tokom trke od 100m. Postepeno ćemo graditi model dodajući nove stvari kako bismo razvili realističan model za trku.\n",
        "\n",
        "\n",
        "α) Prvo ćemo prikazati slobodan dijatram   \n",
        "   sprintera, uključujuci samo horizontalne sile.\n",
        "    Pretpostavimo da je sprinter ubrzan konstantnom pokretačkom snagom F = 400N  i da je masa sprintera 80kg. Dužina staze će biti 100m."
      ],
      "metadata": {
        "id": "c96Sk7oL3yrj"
      }
    },
    {
      "cell_type": "markdown",
      "source": [],
      "metadata": {
        "id": "9blwpKADMB_V"
      }
    },
    {
      "cell_type": "code",
      "execution_count": null,
      "metadata": {
        "id": "zpClh0FP3wnX"
      },
      "outputs": [],
      "source": []
    }
  ]
}