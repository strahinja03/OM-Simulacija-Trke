{
  "nbformat": 4,
  "nbformat_minor": 0,
  "metadata": {
    "colab": {
      "provenance": [],
      "authorship_tag": "ABX9TyMsmHCKsc8orrWCKMCkORp/",
      "include_colab_link": true
    },
    "kernelspec": {
      "name": "python3",
      "display_name": "Python 3"
    },
    "language_info": {
      "name": "python"
    }
  },
  "cells": [
    {
      "cell_type": "markdown",
      "metadata": {
        "id": "view-in-github",
        "colab_type": "text"
      },
      "source": [
        "<a href=\"https://colab.research.google.com/github/strahinja03/OM-Simulacija-Trke/blob/main/Copy_of_Copy_of_Untitled2.ipynb\" target=\"_parent\"><img src=\"https://colab.research.google.com/assets/colab-badge.svg\" alt=\"Open In Colab\"/></a>"
      ]
    },
    {
      "cell_type": "markdown",
      "source": [
        "# **Simulacija Trke**\n",
        "\n",
        "  U ovom projekatu će biti razvijen napredni model kretanja sprintera tokom trke od 100m. Postepeno ćemo graditi model dodajući nove stvari kako bismo razvili realističan model za trku."
      ],
      "metadata": {
        "id": "c96Sk7oL3yrj"
      }
    },
    {
      "cell_type": "markdown",
      "source": [
        "### **Slobodni dijagram sprintera**\n",
        "\n",
        "  U ovom delu ćemo napraviti slobodan dijagram sprintera, pritom ćemo samo uključiti samo horizontalne sile.\n",
        "  Pretpostavka je da je sprinter ubrzan konstantom pokretačkom snagom, F = 400N duž cele staze dugačke 100m. Masa sprintera će biti 80kg."
      ],
      "metadata": {
        "id": "BGEg8AdkOIw8"
      }
    },
    {
      "cell_type": "code",
      "execution_count": null,
      "metadata": {
        "id": "zpClh0FP3wnX"
      },
      "outputs": [],
      "source": [
        "# a)\n",
        "\n",
        "import matplotlib.pyplot as plt\n",
        "\n",
        "F = 400  # [N] - horizontalna pogonska sila\n",
        "m = 80   # [kg] - masa trkača\n",
        "\n",
        "F_otpor = 0  # pretpostavka da je otpor vazduha zanemarljiv u ovom delu modela\n",
        "\n",
        "plt.figure(figsize = (9, 6))\n",
        "\n",
        "plt.title('Dijagram putanje trkača - samo horizontalne sile')\n",
        "\n",
        "plt.arrow(0, 0, F, 0, color = 'green', width = 1.3, head_width = 25, label = 'horizontalna pogonska sila')\n",
        "plt.arrow(F-10, 0, -F_otpor, 0, color = 'blue', width = 1.9, head_width = 18, label = 'otpor vazduha')\n",
        "\n",
        "plt.grid(True)\n",
        "\n",
        "plt.xlabel('horizontalna pogonska sila [N]')\n",
        "plt.ylabel('otpor vazduha')\n",
        "\n",
        "plt.xlim(-40, 460)\n",
        "plt.ylim(-40, 40)\n",
        "\n",
        "plt.show()\n"
      ]
    },
    {
      "cell_type": "markdown",
      "source": [
        "### **Pozicija sprintera kao funkcija od vremena**\n",
        "\n",
        "Za ovaj zadatak iskoristićemo Drugi Njutnov zakon dinamike:\n",
        "<br> <br>\n",
        "<center> $\\vec{F} = m ⋅ \\vec{a}$</center>\n",
        "<br> <br>\n",
        "Uzećemo iste vrednosti za F i m.\n",
        "S obzirom da je ubrzanje konstantno, možemo koristiti formulu za ravnomerno ubrzano kretanje kako pronašli promenu položaja sprintera tokom vremena:\n",
        "\n",
        "<br>\n",
        "<center> 𝒳(t) = 𝒳ₒ + ϑₒ ⋅ t + $\\frac{a ⋅ t^2}{2}$ </center>\n",
        "<br> <br>\n",
        "𝒳(t) - Trenutna pozicija u trenutku t <br>\n",
        "𝒳ₒ - Pocetni položaj <br>\n",
        "ϑₒ - Početna brzina <br>\n",
        "𝜶 - Ubrzanje sprintera <br>\n",
        "\n",
        "U našem slučaju početna brzina će biti 0 jer sprinter počinje trku iz mesta.\n"
      ],
      "metadata": {
        "id": "lCks89AISKMZ"
      }
    }
  ]
}