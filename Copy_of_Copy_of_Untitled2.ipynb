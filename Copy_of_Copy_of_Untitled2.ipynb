{
  "nbformat": 4,
  "nbformat_minor": 0,
  "metadata": {
    "colab": {
      "provenance": [],
      "collapsed_sections": [
        "BGEg8AdkOIw8"
      ],
      "authorship_tag": "ABX9TyMA297Q4r5PcXOA6aU3dS4E",
      "include_colab_link": true
    },
    "kernelspec": {
      "name": "python3",
      "display_name": "Python 3"
    },
    "language_info": {
      "name": "python"
    }
  },
  "cells": [
    {
      "cell_type": "markdown",
      "metadata": {
        "id": "view-in-github",
        "colab_type": "text"
      },
      "source": [
        "<a href=\"https://colab.research.google.com/github/strahinja03/OM-Simulacija-Trke/blob/main/Copy_of_Copy_of_Untitled2.ipynb\" target=\"_parent\"><img src=\"https://colab.research.google.com/assets/colab-badge.svg\" alt=\"Open In Colab\"/></a>"
      ]
    },
    {
      "cell_type": "markdown",
      "source": [
        "# **Simulacija Trke**\n",
        "\n",
        "  U ovom projekatu će biti razvijen napredni model kretanja sprintera tokom trke od 100m. Postepeno ćemo graditi model dodajući nove stvari kako bismo razvili realističan model za trku."
      ],
      "metadata": {
        "id": "c96Sk7oL3yrj"
      }
    },
    {
      "cell_type": "markdown",
      "source": [
        "### **Slobodni dijagram sprintera**\n",
        "\n",
        "  Prvo ćemo napraviti slobodan dijagram sprintera, pritom ćemo samo uključiti samo horizontalne sile.\n",
        "  Pretpostavka je da je sprinter ubrzan konstantom pokretačkom snagom, F = 400N duž cele staze dugačke 100m. Masa sprintera će biti 80kg."
      ],
      "metadata": {
        "id": "BGEg8AdkOIw8"
      }
    },
    {
      "cell_type": "code",
      "execution_count": null,
      "metadata": {
        "id": "zpClh0FP3wnX"
      },
      "outputs": [],
      "source": [
        "# a)\n",
        "\n",
        "import matplotlib.pyplot as plt\n",
        "\n",
        "F = 400  # [N] - horizontalna pogonska sila\n",
        "m = 80   # [kg] - masa trkača\n",
        "\n",
        "F_otpor = 0  # pretpostavka da je otpor vazduha zanemarljiv u ovom delu modela\n",
        "\n",
        "plt.figure(figsize = (9, 6))\n",
        "\n",
        "plt.title('Dijagram putanje trkača - samo horizontalne sile')\n",
        "\n",
        "plt.arrow(0, 0, F, 0, color = 'green', width = 1.3, head_width = 25, label = 'horizontalna pogonska sila')\n",
        "plt.arrow(F-10, 0, -F_otpor, 0, color = 'blue', width = 1.9, head_width = 18, label = 'otpor vazduha')\n",
        "\n",
        "plt.grid(True)\n",
        "\n",
        "plt.xlabel('horizontalna pogonska sila [N]')\n",
        "plt.ylabel('otpor vazduha')\n",
        "\n",
        "plt.xlim(-40, 460)\n",
        "plt.ylim(-40, 40)\n",
        "\n",
        "plt.show()\n"
      ]
    },
    {
      "cell_type": "markdown",
      "source": [
        "### **Pozicija sprintera kao funkcija od vremena**\n",
        "\n",
        "Za ovaj zadatak iskoristićemo Drugi Njutnov zakon dinamike:\n",
        "<br> <br>\n",
        "<center> $\\vec{F} = m ⋅ \\vec{a}$</center>\n",
        "<br> <br>\n",
        "Uzećemo iste vrednosti za F i m.\n",
        "S obzirom da je ubrzanje konstantno, možemo koristiti formulu za ravnomerno ubrzano kretanje kako pronašli promenu položaja sprintera tokom vremena:\n",
        "<br> <br>\n",
        "<center> 𝒳(t) = 𝒳ₒ + ϑₒ ⋅ t + $\\frac{a ⋅ t^2}{2}$ </center>\n",
        "<br> <br>\n",
        "𝒳(t) - Trenutna pozicija u trenutku t <br>\n",
        "𝒳ₒ - Pocetni položaj <br>\n",
        "ϑₒ - Početna brzina <br>\n",
        "𝜶 - Ubrzanje sprintera <br>\n",
        "U našem slučaju početna brzina će biti 0 jer sprinter počinje trku iz mesta.\n",
        "Ubrzanje nalazimo korišćenjem prethodno pomenutog Drugog Njutnovog zakona. I dobijamo da je ubrzanje 5$\\frac{𝒎}{𝐬^2}$.\n",
        "\n",
        "Sada ćemo iskoristiti formulu za položaj i nacrtati grafik."
      ],
      "metadata": {
        "id": "lCks89AISKMZ"
      }
    },
    {
      "cell_type": "code",
      "source": [
        "# b)\n",
        "\n",
        "import matplotlib.pyplot as plt\n",
        "\n",
        "F = 400  # [N] - horizontalna pogonska sila\n",
        "m = 80   # [kg] - masa trkača\n",
        "\n",
        "a = F / m  # [m/s^2] - ubrzanje\n",
        "\n",
        "# Funkcija za izračunavanje položaja trkaca u funkciji od vremena\n",
        "def pozicija(t):\n",
        "    # početni položaj\n",
        "    x0 = 0\n",
        "    return 0.5 * a * t**2\n",
        "\n",
        "# Vremenski trenuci u sekundama\n",
        "vremenski_trenuci = [0, 1, 2, 3, 4, 5, 6, 7, 8, 9, 10]\n",
        "\n",
        "# Izračunavanje položaja trkača u svakom vremenskom trenutku\n",
        "pozicije = [pozicija(t) for t in vremenski_trenuci]\n",
        "\n",
        "plt.figure(figsize = (9, 6))\n",
        "plt.plot(pozicije, vremenski_trenuci, marker = 's', color = 'r', label = 'položaj trkača')\n",
        "\n",
        "plt.title('Položaj trkača u vremenskim trenucima')\n",
        "plt.xlabel('položaj trkača [m]')\n",
        "plt.ylabel('vreme [s]')\n",
        "\n",
        "plt.grid(True)\n",
        "plt.legend()\n",
        "plt.show()\n"
      ],
      "metadata": {
        "id": "wxRuDYgZrF7j"
      },
      "execution_count": null,
      "outputs": []
    },
    {
      "cell_type": "markdown",
      "source": [
        "Sada nam je zadatak da pokažemo da ce sprinter u trenutku t = 6.3 preći 100m. Da bi proverili da li ovo važi treba da u formulu samo ubacimo naše ulazne podatke. Tako da pošto znamo da je udaljenost koju tražimo 100m a ubrzanje smo takođe izračunali rešavamo jednačino po t.\n",
        "\n",
        "Dobijamo da je:\n",
        "  <center> $t = \\sqrt40$ ≈ 6.3 </center> <br>"
      ],
      "metadata": {
        "id": "gvk8j9vKrm5W"
      }
    },
    {
      "cell_type": "code",
      "source": [
        "# c)\n",
        "\n",
        "import math\n",
        "\n",
        "# Vreme koje je potrebno trkaču da pretrči 100 m staze\n",
        "t = math.sqrt(40)\n",
        "print(\"Trkaču treba\", round(t, 1), \"sekunde da pretrči 100 m staze.\")"
      ],
      "metadata": {
        "colab": {
          "base_uri": "https://localhost:8080/"
        },
        "id": "bbudi-pbtciS",
        "outputId": "3214e41c-6a66-4bec-c991-afa287ec76da"
      },
      "execution_count": 2,
      "outputs": [
        {
          "output_type": "stream",
          "name": "stdout",
          "text": [
            "Trkaču treba 6.3 sekunde da pretrči 100 m staze.\n"
          ]
        }
      ]
    },
    {
      "cell_type": "markdown",
      "source": [
        "Naravno u realnom svetu postoji i sila otpora sredine. Tako da sada treba da uvedemo i tu silu u naše razmatranje.\n",
        "<br>\n",
        "<center> $𝐷 = \\frac{1}{2}ρC_{D}A(v - w)^2$ </center>\n",
        "<br>\n",
        "ρ - Gustina vazduha (1.293$\\frac{kg}{m^3}$) <br>\n",
        "A - Površina preseka trkača (0.45m^2) <br>\n",
        "$C_{D}$ - Koeficijent otpora (1.2) <br>\n",
        "v - Brzina trkača <br>\n",
        "w - Brzina vazduha <br>\n",
        "Pretpostavićemo da je brzina vazduha 0$\\frac{m}{s}$.\n",
        "\n",
        "Sada želimo pod pretpostavkom da je trkač samo pod uticajem pokretačke sile F i otpora vazduha nađemo izraz za računanje ubrzanja trkača.\n"
      ],
      "metadata": {
        "id": "twVCfizDuLiR"
      }
    },
    {
      "cell_type": "code",
      "source": [],
      "metadata": {
        "id": "zGD-vVjN4nM9"
      },
      "execution_count": null,
      "outputs": []
    },
    {
      "cell_type": "markdown",
      "source": [],
      "metadata": {
        "id": "HUccGHTZ4n6R"
      }
    }
  ]
}