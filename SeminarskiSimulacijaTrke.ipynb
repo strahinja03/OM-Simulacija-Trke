{
  "nbformat": 4,
  "nbformat_minor": 0,
  "metadata": {
    "colab": {
      "provenance": [],
      "toc_visible": true,
      "authorship_tag": "ABX9TyNVNknHi/oADfmbw9jvikj2",
      "include_colab_link": true
    },
    "kernelspec": {
      "name": "python3",
      "display_name": "Python 3"
    },
    "language_info": {
      "name": "python"
    }
  },
  "cells": [
    {
      "cell_type": "markdown",
      "metadata": {
        "id": "view-in-github",
        "colab_type": "text"
      },
      "source": [
        "<a href=\"https://colab.research.google.com/github/strahinja03/OM-Simulacija-Trke/blob/main/SeminarskiSimulacijaTrke.ipynb\" target=\"_parent\"><img src=\"https://colab.research.google.com/assets/colab-badge.svg\" alt=\"Open In Colab\"/></a>"
      ]
    },
    {
      "cell_type": "markdown",
      "source": [
        "# Simulacija Trke\n"
      ],
      "metadata": {
        "id": "c96Sk7oL3yrj"
      }
    },
    {
      "cell_type": "code",
      "execution_count": null,
      "metadata": {
        "id": "zpClh0FP3wnX"
      },
      "outputs": [],
      "source": []
    }
  ]
}